{
 "cells": [
  {
   "cell_type": "markdown",
   "metadata": {},
   "source": [
    "# Data Ingestion (Alternative)\n",
    "This is an alternative ingestion method using TIINGO. Note that there are timed limits for free API usage."
   ]
  },
  {
   "cell_type": "markdown",
   "metadata": {},
   "source": [
    "### Imports"
   ]
  },
  {
   "cell_type": "code",
   "execution_count": 1,
   "metadata": {},
   "outputs": [],
   "source": [
    "import requests\n",
    "import os\n",
    "from os.path import join, dirname\n",
    "from dotenv import load_dotenv, find_dotenv\n",
    "import pandas as pd\n",
    "import datetime\n",
    "import json\n",
    "import psycopg2\n",
    "import yfinance as yf"
   ]
  },
  {
   "cell_type": "markdown",
   "metadata": {},
   "source": [
    "### Retrieve env variables"
   ]
  },
  {
   "cell_type": "code",
   "execution_count": null,
   "metadata": {},
   "outputs": [],
   "source": [
    "load_dotenv(find_dotenv())\n",
    "\n",
    "TIINGO_API_KEY = os.environ.get(\"TIINGO_API_KEY\")\n",
    "PG_HOST = os.environ.get(\"PG_HOST\")\n",
    "PG_PORT = os.environ.get(\"PG_PORT\")\n",
    "PG_DATABASE = os.environ.get(\"PG_DATABASE\")\n",
    "PG_USER = os.environ.get(\"PG_USER\")\n",
    "PG_PASSWORD = os.environ.get(\"PG_PASSWORD\")"
   ]
  },
  {
   "cell_type": "markdown",
   "metadata": {},
   "source": [
    "# TIINGO"
   ]
  },
  {
   "cell_type": "code",
   "execution_count": null,
   "metadata": {},
   "outputs": [],
   "source": [
    "startDate = \"2015-01-01\"\n",
    "headers = {\n",
    "        'Content-Type': 'application/json',\n",
    "        'Authorization' : f\"TOKEN {TIINGO_API_KEY}\"\n",
    "        }"
   ]
  },
  {
   "cell_type": "markdown",
   "metadata": {},
   "source": [
    "### Testing endpoint and tokens"
   ]
  },
  {
   "cell_type": "code",
   "execution_count": null,
   "metadata": {},
   "outputs": [],
   "source": [
    "requestResponse = requests.get(\"https://api.tiingo.com/api/test/\",\n",
    "                                    headers=headers)\n",
    "print(requestResponse.json())"
   ]
  },
  {
   "cell_type": "markdown",
   "metadata": {},
   "source": [
    "### Retrieve historical daily price information\n",
    "\n",
    "\n",
    "Get list of updated TIINGO supported tickers: https://apimedia.tiingo.com/docs/tiingo/daily/supported_tickers.zip \n",
    "\n",
    "Move the downloaded csv into ./ingestion folder"
   ]
  },
  {
   "cell_type": "code",
   "execution_count": null,
   "metadata": {},
   "outputs": [
    {
     "name": "stdout",
     "output_type": "stream",
     "text": [
      "   ticker exchange assetType priceCurrency   startDate     endDate\n",
      "0    -P-H     NYSE     Stock           USD         NaN         NaN\n",
      "1    -P-S     NYSE     Stock           USD  2018-08-22  2023-05-05\n",
      "2  000001      SHE     Stock           CNY  2007-01-04  2024-10-23\n",
      "3  000002      SHE     Stock           CNY  2007-01-04  2024-10-23\n",
      "4  000003      SHE     Stock           CNY         NaN         NaN\n"
     ]
    }
   ],
   "source": [
    "tickers_df = pd.read_csv('supported_tickers.csv')\n",
    "print(tickers_df.head())"
   ]
  },
  {
   "cell_type": "markdown",
   "metadata": {},
   "source": [
    "Change into valid dates"
   ]
  },
  {
   "cell_type": "code",
   "execution_count": null,
   "metadata": {},
   "outputs": [],
   "source": [
    "tickers_df['startDate'] = pd.to_datetime(tickers_df['startDate'])\n",
    "tickers_df['endDate'] = pd.to_datetime(tickers_df['endDate'])"
   ]
  },
  {
   "cell_type": "markdown",
   "metadata": {},
   "source": [
    "Filter only for current stocks"
   ]
  },
  {
   "cell_type": "code",
   "execution_count": null,
   "metadata": {},
   "outputs": [
    {
     "name": "stdout",
     "output_type": "stream",
     "text": [
      "   ticker exchange assetType priceCurrency  startDate    endDate\n",
      "2  000001      SHE     Stock           CNY 2007-01-04 2024-10-23\n",
      "3  000002      SHE     Stock           CNY 2007-01-04 2024-10-23\n",
      "5  000004      SHE     Stock           CNY 2007-08-31 2024-10-23\n",
      "6  000005      SHE     Stock           CNY 2007-08-31 2024-03-05\n",
      "7  000006      SHE     Stock           CNY 2007-01-04 2024-10-23\n"
     ]
    }
   ],
   "source": [
    "tolerance = 365\n",
    "tickers_df = tickers_df.loc[tickers_df['endDate'] >= (pd.Timestamp.now() - pd.Timedelta(tolerance, unit='D'))]\n",
    "print(tickers_df.head())"
   ]
  },
  {
   "cell_type": "markdown",
   "metadata": {},
   "source": [
    "Optional Filter for a single exchange"
   ]
  },
  {
   "cell_type": "code",
   "execution_count": null,
   "metadata": {},
   "outputs": [
    {
     "name": "stdout",
     "output_type": "stream",
     "text": [
      "ticker           3207\n",
      "exchange         3207\n",
      "assetType        3207\n",
      "priceCurrency    3207\n",
      "startDate        3207\n",
      "endDate          3207\n",
      "dtype: int64\n",
      "      ticker exchange assetType priceCurrency  startDate    endDate\n",
      "6535       A     NYSE     Stock           USD 1999-11-18 2024-10-23\n",
      "6548      AA     NYSE     Stock           USD 2016-10-18 2024-10-23\n",
      "6611     AAC     NYSE     Stock           USD 2021-03-25 2023-11-06\n",
      "6613   AAC-U     NYSE     Stock           USD 2021-02-02 2023-11-06\n",
      "6614  AAC-WS     NYSE     Stock           USD 2021-03-25 2023-11-06\n"
     ]
    }
   ],
   "source": [
    "exchange = \"NYSE\"\n",
    "filtered_tickers_df = tickers_df.loc[tickers_df['exchange'] == exchange]\n",
    "print(filtered_tickers_df.count())\n",
    "print(filtered_tickers_df.head())"
   ]
  },
  {
   "cell_type": "markdown",
   "metadata": {},
   "source": [
    "Call TIINGO API for historical data"
   ]
  },
  {
   "cell_type": "code",
   "execution_count": null,
   "metadata": {},
   "outputs": [],
   "source": [
    "def tiingo_stock_price(ticker, startDate, headers):\n",
    "    return requests.get(f\"https://api.tiingo.com/tiingo/daily/{ticker}/prices?startDate={startDate}\", headers=headers)"
   ]
  },
  {
   "cell_type": "code",
   "execution_count": null,
   "metadata": {},
   "outputs": [],
   "source": [
    "for ticker in filtered_tickers_df['ticker']:\n",
    "    requestResponse = tiingo_stock_price(ticker, startDate, headers)\n",
    "    # TODO integrate returned data into database as done with yfinance"
   ]
  }
 ],
 "metadata": {
  "kernelspec": {
   "display_name": "venv",
   "language": "python",
   "name": "python3"
  },
  "language_info": {
   "codemirror_mode": {
    "name": "ipython",
    "version": 3
   },
   "file_extension": ".py",
   "mimetype": "text/x-python",
   "name": "python",
   "nbconvert_exporter": "python",
   "pygments_lexer": "ipython3",
   "version": "3.12.3"
  }
 },
 "nbformat": 4,
 "nbformat_minor": 2
}
